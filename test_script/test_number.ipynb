{
 "cells": [
  {
   "cell_type": "code",
   "execution_count": 1,
   "source": [
    "2048/256"
   ],
   "outputs": [
    {
     "output_type": "execute_result",
     "data": {
      "text/plain": [
       "8.0"
      ]
     },
     "metadata": {},
     "execution_count": 1
    }
   ],
   "metadata": {}
  },
  {
   "cell_type": "code",
   "execution_count": 13,
   "source": [
    "import torch\n",
    "import torch.nn as nn\n",
    "\n",
    "a=torch.rand((20,256,1))\n",
    "b=torch.rand((20,256,1))\n",
    "c=torch.rand((20,256,1))\n",
    "\n",
    "\n",
    "c=torch.stack([a,b,c],0)\n",
    "c = c.squeeze()\n",
    "print(c.size())\n",
    "\n",
    "net = nn.LSTM(256, 128, bidirectional=True)\n",
    "\n",
    "output,(_,_) = net(c)\n",
    "print(output.size())\n"
   ],
   "outputs": [
    {
     "output_type": "stream",
     "name": "stdout",
     "text": [
      "torch.Size([3, 20, 256])\n",
      "torch.Size([3, 20, 256])\n"
     ]
    }
   ],
   "metadata": {}
  },
  {
   "cell_type": "code",
   "execution_count": 14,
   "source": [
    "for i in range(3):\n",
    "    print(output[i].shape)"
   ],
   "outputs": [
    {
     "output_type": "stream",
     "name": "stdout",
     "text": [
      "torch.Size([20, 256])\n",
      "torch.Size([20, 256])\n",
      "torch.Size([20, 256])\n"
     ]
    }
   ],
   "metadata": {}
  },
  {
   "cell_type": "code",
   "execution_count": null,
   "source": [],
   "outputs": [],
   "metadata": {}
  }
 ],
 "metadata": {
  "orig_nbformat": 4,
  "language_info": {
   "name": "python",
   "version": "3.9.6",
   "mimetype": "text/x-python",
   "codemirror_mode": {
    "name": "ipython",
    "version": 3
   },
   "pygments_lexer": "ipython3",
   "nbconvert_exporter": "python",
   "file_extension": ".py"
  },
  "kernelspec": {
   "name": "python3",
   "display_name": "Python 3.9.6 64-bit ('py396': conda)"
  },
  "interpreter": {
   "hash": "810c2306e51442dc5b04877c086a7ceb5216301a6472989ae31f791644de0868"
  }
 },
 "nbformat": 4,
 "nbformat_minor": 2
}