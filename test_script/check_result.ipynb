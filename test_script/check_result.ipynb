{
 "cells": [
  {
   "cell_type": "code",
   "execution_count": null,
   "source": [
    "# import cv2\n",
    "# %matplotlib inline\n",
    "# from  matplotlib import pyplot as plt\n",
    "\n",
    "# plt.figure(figsize=(20,20))\n",
    "# IMG_PATH=\"checkpoints/hymenoptera/train_log.jpg\"\n",
    "# im = cv2.imread(IMG_PATH)\n",
    "# plt.imshow(im)\n",
    "# plt.show()"
   ],
   "outputs": [],
   "metadata": {}
  },
  {
   "cell_type": "code",
   "execution_count": 16,
   "source": [],
   "outputs": [],
   "metadata": {}
  },
  {
   "cell_type": "code",
   "execution_count": 14,
   "source": [
    "print(img)"
   ],
   "outputs": [
    {
     "output_type": "stream",
     "name": "stdout",
     "text": [
      "[[[152 153 163]\n",
      "  [158 159 169]\n",
      "  [155 157 165]\n",
      "  ...\n",
      "  [ 63  66  57]\n",
      "  [ 62  65  56]\n",
      "  [ 64  67  58]]\n",
      "\n",
      " [[151 152 162]\n",
      "  [155 156 166]\n",
      "  [154 156 164]\n",
      "  ...\n",
      "  [ 63  66  57]\n",
      "  [ 60  63  54]\n",
      "  [ 60  63  54]]\n",
      "\n",
      " [[151 152 162]\n",
      "  [151 152 162]\n",
      "  [151 153 161]\n",
      "  ...\n",
      "  [ 62  65  56]\n",
      "  [ 59  62  53]\n",
      "  [ 58  61  52]]\n",
      "\n",
      " ...\n",
      "\n",
      " [[150 150 150]\n",
      "  [153 153 153]\n",
      "  [151 151 151]\n",
      "  ...\n",
      "  [127 127 127]\n",
      "  [131 131 131]\n",
      "  [135 135 135]]\n",
      "\n",
      " [[144 144 144]\n",
      "  [148 148 148]\n",
      "  [148 148 148]\n",
      "  ...\n",
      "  [119 119 119]\n",
      "  [118 118 118]\n",
      "  [118 118 118]]\n",
      "\n",
      " [[135 135 135]\n",
      "  [137 137 137]\n",
      "  [134 134 134]\n",
      "  ...\n",
      "  [128 128 128]\n",
      "  [120 120 120]\n",
      "  [114 114 114]]]\n"
     ]
    }
   ],
   "metadata": {}
  },
  {
   "cell_type": "code",
   "execution_count": null,
   "source": [],
   "outputs": [],
   "metadata": {}
  }
 ],
 "metadata": {
  "orig_nbformat": 4,
  "language_info": {
   "name": "python",
   "version": "3.9.6",
   "mimetype": "text/x-python",
   "codemirror_mode": {
    "name": "ipython",
    "version": 3
   },
   "pygments_lexer": "ipython3",
   "nbconvert_exporter": "python",
   "file_extension": ".py"
  },
  "kernelspec": {
   "name": "python3",
   "display_name": "Python 3.9.6 64-bit ('py396': conda)"
  },
  "interpreter": {
   "hash": "810c2306e51442dc5b04877c086a7ceb5216301a6472989ae31f791644de0868"
  }
 },
 "nbformat": 4,
 "nbformat_minor": 2
}