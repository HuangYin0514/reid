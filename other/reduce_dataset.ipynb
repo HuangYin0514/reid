{
 "cells": [
  {
   "cell_type": "code",
   "execution_count": 37,
   "source": [
    "import os\n",
    "#using numpy\n",
    "import numpy as np\n",
    "#visualize some datasets\n",
    "import matplotlib.pyplot as plt"
   ],
   "outputs": [],
   "metadata": {}
  },
  {
   "cell_type": "code",
   "execution_count": 38,
   "source": [
    "os.listdir('../datasets/Market-1501-v15.09.15/')"
   ],
   "outputs": [
    {
     "output_type": "execute_result",
     "data": {
      "text/plain": [
       "['bounding_box_test',\n",
       " 'gt_query',\n",
       " 'gt_bbox',\n",
       " 'bounding_box_train',\n",
       " 'readme.txt',\n",
       " 'query']"
      ]
     },
     "metadata": {},
     "execution_count": 38
    }
   ],
   "metadata": {}
  },
  {
   "cell_type": "code",
   "execution_count": 39,
   "source": [
    "import glob\n",
    "\n",
    "train_dir = '../datasets/Market-1501-v15.09.15/bounding_box_train'\n",
    "test_dir = '../datasets/Market-1501-v15.09.15/bounding_box_test'\n",
    "query_dir = '../datasets/Market-1501-v15.09.15/query'\n",
    "\n",
    "train_list = glob.glob(os.path.join(train_dir,'*.jpg'))\n",
    "test_list = glob.glob(os.path.join(test_dir, '*.jpg'))\n",
    "query_list = glob.glob(os.path.join(query_dir, '*.jpg'))\n",
    "\n",
    "len(train_list),len(test_list),len(query_list)"
   ],
   "outputs": [
    {
     "output_type": "execute_result",
     "data": {
      "text/plain": [
       "(12936, 19732, 3368)"
      ]
     },
     "metadata": {},
     "execution_count": 39
    }
   ],
   "metadata": {}
  },
  {
   "cell_type": "code",
   "execution_count": 40,
   "source": [
    "!rm -rf ../datasets/Market-1501-v15.09.15_reduce"
   ],
   "outputs": [],
   "metadata": {}
  },
  {
   "cell_type": "code",
   "execution_count": 41,
   "source": [
    "os.mkdir(\"../datasets/Market-1501-v15.09.15_reduce\")\n",
    "os.mkdir(\"../datasets/Market-1501-v15.09.15_reduce/bounding_box_train\")\n",
    "os.mkdir(\"../datasets/Market-1501-v15.09.15_reduce/bounding_box_test\")\n",
    "os.mkdir(\"../datasets/Market-1501-v15.09.15_reduce/query\")\n"
   ],
   "outputs": [],
   "metadata": {}
  },
  {
   "cell_type": "code",
   "execution_count": 42,
   "source": [
    "from PIL import Image\n",
    "import shutil\n",
    "\n",
    "\n",
    "random_idx = np.random.randint(1,len(train_list),size=20)\n",
    "dest_file_path = \"../datasets/Market-1501-v15.09.15_reduce/bounding_box_train/\"\n",
    "ori_file_path = '../datasets/Market-1501-v15.09.15/bounding_box_train/'\n",
    "for idx in random_idx:\n",
    "    file_name = train_list[idx].split(\"/\")[-1]\n",
    "    shutil.copyfile(test_list[idx],dest_file_path+file_name)\n",
    "    same_person = [attr for attr in train_list if attr.startswith(ori_file_path+file_name[:4])]\n",
    "    same_person = same_person[:3]\n",
    "    for sp in same_person:\n",
    "        shutil.copyfile(sp,dest_file_path+sp.split(\"/\")[-1])\n",
    "\n",
    "random_idx = np.random.randint(1,len(test_list),size=100)\n",
    "dest_file_path = \"../datasets/Market-1501-v15.09.15_reduce/bounding_box_test/\"\n",
    "for idx in random_idx:\n",
    "    file_name = test_list[idx].split(\"/\")[-1]\n",
    "    shutil.copyfile(test_list[idx],dest_file_path+file_name)\n",
    "\n",
    "\n",
    "random_idx = np.random.randint(1,len(query_list),size=100)\n",
    "dest_file_path = \"../datasets/Market-1501-v15.09.15_reduce/query/\"\n",
    "for idx in random_idx:\n",
    "    file_name = query_list[idx].split(\"/\")[-1]\n",
    "    shutil.copyfile(query_list[idx],dest_file_path+file_name)"
   ],
   "outputs": [],
   "metadata": {}
  },
  {
   "cell_type": "code",
   "execution_count": 43,
   "source": [
    "train_dir = '../datasets/Market-1501-v15.09.15_reduce/bounding_box_train'\n",
    "test_dir = '../datasets/Market-1501-v15.09.15_reduce/bounding_box_test'\n",
    "query_dir = '../datasets/Market-1501-v15.09.15_reduce/query'\n",
    "\n",
    "train_list = glob.glob(os.path.join(train_dir,'*.jpg'))\n",
    "test_list = glob.glob(os.path.join(test_dir, '*.jpg'))\n",
    "query_list = glob.glob(os.path.join(query_dir, '*.jpg'))\n",
    "\n",
    "len(train_list),len(test_list),len(query_list)"
   ],
   "outputs": [
    {
     "output_type": "execute_result",
     "data": {
      "text/plain": [
       "(75, 100, 100)"
      ]
     },
     "metadata": {},
     "execution_count": 43
    }
   ],
   "metadata": {}
  },
  {
   "cell_type": "code",
   "execution_count": null,
   "source": [],
   "outputs": [],
   "metadata": {}
  }
 ],
 "metadata": {
  "orig_nbformat": 4,
  "language_info": {
   "name": "python",
   "version": "3.9.6",
   "mimetype": "text/x-python",
   "codemirror_mode": {
    "name": "ipython",
    "version": 3
   },
   "pygments_lexer": "ipython3",
   "nbconvert_exporter": "python",
   "file_extension": ".py"
  },
  "kernelspec": {
   "name": "python3",
   "display_name": "Python 3.9.6 64-bit ('py396': conda)"
  },
  "interpreter": {
   "hash": "810c2306e51442dc5b04877c086a7ceb5216301a6472989ae31f791644de0868"
  }
 },
 "nbformat": 4,
 "nbformat_minor": 2
}